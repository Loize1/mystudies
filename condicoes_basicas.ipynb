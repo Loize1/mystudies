{
  "nbformat": 4,
  "nbformat_minor": 0,
  "metadata": {
    "colab": {
      "name": "condicoes_basicas.ipynb",
      "provenance": [],
      "collapsed_sections": [],
      "authorship_tag": "ABX9TyP0q9rQ1+va3xRMZXZRQDP3",
      "include_colab_link": true
    },
    "kernelspec": {
      "name": "python3",
      "display_name": "Python 3"
    },
    "language_info": {
      "name": "python"
    }
  },
  "cells": [
    {
      "cell_type": "markdown",
      "metadata": {
        "id": "view-in-github",
        "colab_type": "text"
      },
      "source": [
        "<a href=\"https://colab.research.google.com/github/Loize1/mystudies/blob/main/condicoes_basicas.ipynb\" target=\"_parent\"><img src=\"https://colab.research.google.com/assets/colab-badge.svg\" alt=\"Open In Colab\"/></a>"
      ]
    },
    {
      "cell_type": "code",
      "execution_count": null,
      "metadata": {
        "colab": {
          "base_uri": "https://localhost:8080/"
        },
        "id": "iLp-rRmtAIMF",
        "outputId": "d0e1d3d2-351e-4868-8448-869f59cff22c"
      },
      "outputs": [
        {
          "output_type": "stream",
          "name": "stdout",
          "text": [
            "Insira a velocidade do veículo: 130\n",
            "Sua multa foi de R$ 250\n"
          ]
        }
      ],
      "source": [
        "#Escreva um programa que pergunte a velocidade de um carro. Caso ultrapasse 80Km/h, \n",
        "#exiba uma mensagem dizendo que o usuário foi multado. Nesse caso, exiba\n",
        "#o valor da multa, cobrando R$5 por cada Km acima da velocidade permitida.\n",
        "velocidade=int(input(\"Insira a velocidade do veículo: \"))\n",
        "\n",
        "if velocidade>80:\n",
        "  multa=(velocidade-80)*5\n",
        "  print(\"Sua multa foi de R$\", multa)"
      ]
    },
    {
      "cell_type": "code",
      "source": [
        "#Faça um programa que leia o ano de nascimento de uma pessoa, calcule a idade\n",
        "#dela e depois mostre se ela pode ou não votar.\n",
        "ano=int(input(\"Qual o seu ano de nascimento?\"))\n",
        "idade=2022-ano\n",
        "if idade<18:\n",
        "  print(\"Você ainda não pode votar\")\n",
        "else:\n",
        "  print(\"Você já está apto para votar\")"
      ],
      "metadata": {
        "colab": {
          "base_uri": "https://localhost:8080/"
        },
        "id": "7CQ4vHpHCeyr",
        "outputId": "0970a966-d77b-4af9-ee1a-7f3fd0cb3761"
      },
      "execution_count": null,
      "outputs": [
        {
          "output_type": "stream",
          "name": "stdout",
          "text": [
            "Qual o seu ano de nascimento?2009\n",
            "Você ainda não pode votar\n"
          ]
        }
      ]
    },
    {
      "cell_type": "code",
      "source": [
        "#Crie um algoritmo que leia o nome e as duas notas de um aluno, calcule a sua\n",
        "#média e mostre na tela. No final, analise a média e mostre se o aluno teve ou\n",
        "#não um bom aproveitamento (se ficou acima da média 7.0).\n",
        "nome=input(\"Informe seu nome: \")\n",
        "nota1=float(input(\"Informe a primeira nota: \"))\n",
        "nota2=float(input(\"Informe a segunda nota: \"))\n",
        "media=(nota1+nota2)/2\n",
        "\n",
        "if media>=7:\n",
        "  print(\"Parabéns! Você obteve um bom aproveitamento.\")\n",
        "else:\n",
        "  print(\"Infelizmente, você não teve um bom aproveitamento\")"
      ],
      "metadata": {
        "colab": {
          "base_uri": "https://localhost:8080/"
        },
        "id": "vT63G6AYDfrv",
        "outputId": "711a3b40-5460-4668-98e8-197cf4d01e7f"
      },
      "execution_count": null,
      "outputs": [
        {
          "output_type": "stream",
          "name": "stdout",
          "text": [
            "Informe seu nome: Gabriela\n",
            "Informe a primeira nota: 8.3\n",
            "Informe a segunda nota: 6.4\n",
            "Parabéns! Você obteve um bom aproveitamento.\n"
          ]
        }
      ]
    },
    {
      "cell_type": "code",
      "source": [
        "#Desenvolva um programa que leia um número inteiro e mostre se ele é PAR ou ÍMPAR.\n",
        "numero=int(input(\"Diga um número: \"))\n",
        "if numero%2==0:\n",
        "  print(\"Este número é par\")\n",
        "else:\n",
        "  print(\"Este número é ímpar\")\n"
      ],
      "metadata": {
        "id": "M0Un7exxEgts",
        "colab": {
          "base_uri": "https://localhost:8080/"
        },
        "outputId": "d9397646-6255-449f-a4dc-5069e761d64f"
      },
      "execution_count": 15,
      "outputs": [
        {
          "output_type": "stream",
          "name": "stdout",
          "text": [
            "Diga um número: 7\n",
            "Este número é ímpar\n"
          ]
        }
      ]
    },
    {
      "cell_type": "code",
      "source": [
        "#Faça um algoritmo que leia um determinado ano e mostre se ele é ou não BISSEXTO\n",
        "ano=int(input(\"Digite um ano: \"))\n",
        "if ano%4==0 or ano%400==0:\n",
        "  print(\"Este ano é bissexto.\")\n",
        "else:\n",
        "  print(\"Este ano não é bissexto\")"
      ],
      "metadata": {
        "colab": {
          "base_uri": "https://localhost:8080/"
        },
        "id": "DNNwgIM9Y5hU",
        "outputId": "c4f8529b-2469-4661-d820-3271a9bda820"
      },
      "execution_count": 19,
      "outputs": [
        {
          "output_type": "stream",
          "name": "stdout",
          "text": [
            "Digite um ano: 2000\n",
            "Este ano é bissexto.\n"
          ]
        }
      ]
    },
    {
      "cell_type": "code",
      "source": [
        "#Escreva um programa que leia o ano de nascimento de um rapaz e mostre a sua\n",
        "#situação em relação ao alistamento militar.\n",
        "# - Se estiver antes dos 18 anos, mostre em quantos anos faltam para o alistamento.\n",
        "# - Se já tiver depois dos 18 anos, mostre quantos anos já se passaram do alistamento.\n",
        "ano=int(input(\"Informe seu ano de nascimento:\"))\n",
        "idade=2022-ano\n",
        "if idade>18:\n",
        "  print(\"Já se passaram\",idade-18, \"anos do alistamento. Por favor, regularize sua situação.\")\n",
        "elif idade==18:\n",
        "  print(\"Você corresponde ao requisito. Procure o local mais próximo para o alistamento.\")\n",
        "else:\n",
        "  print(\"Ainda faltam\", 18-idade, \"anos para seu alistamento.\")"
      ],
      "metadata": {
        "colab": {
          "base_uri": "https://localhost:8080/"
        },
        "id": "Dt0Z9_roaCCA",
        "outputId": "ef042620-9481-461b-9866-00ae0f9af2b2"
      },
      "execution_count": 23,
      "outputs": [
        {
          "output_type": "stream",
          "name": "stdout",
          "text": [
            "Informe seu ano de nascimento:2004\n",
            "Você corresponde ao requisito. Procure o local mais próximo para o alistamento.\n"
          ]
        }
      ]
    },
    {
      "cell_type": "code",
      "source": [
        "#Numa promoção exclusiva para o Dia da Mulher, uma loja quer dar descontos\n",
        "#para todos, mas especialmente para mulheres. Faça um programa que leia nome,\n",
        "#sexo e o valor das compras do cliente e calcule o preço com desconto. Sabendo que:\n",
        "# - Homens ganham 5% de desconto\n",
        "# - Mulheres ganham 13% de desconto\n",
        "nome=input(\"Informe seu nome: \")\n",
        "sexo=input(\"Informe seu gênero: \")\n",
        "valor=float(input(\"Informe o valor da compra: \"))\n",
        "if sexo==\"homem\":\n",
        "  print(\"O valor com desconto será R$\", valor-((valor*5)/100))\n",
        "else:\n",
        "  print(\"O valor com desconto será R$\", valor-((valor*13)/100))"
      ],
      "metadata": {
        "colab": {
          "base_uri": "https://localhost:8080/"
        },
        "id": "kMY8K3usbmNd",
        "outputId": "0a262a7b-e056-4d4a-e58f-2ca846db9058"
      },
      "execution_count": 26,
      "outputs": [
        {
          "output_type": "stream",
          "name": "stdout",
          "text": [
            "Informe seu nome: Maria\n",
            "Informe seu gênero: mulher\n",
            "Informe o valor da compra: 89.90\n",
            "O valor com desconto será R$ 78.21300000000001\n"
          ]
        }
      ]
    },
    {
      "cell_type": "code",
      "source": [
        "#Faça um algoritmo que pergunte a distância que um passageiro deseja percorrer em Km. \n",
        "#Calcule o preço da passagem, cobrando R$0.50 por Km para\n",
        "#viagens até 200Km e R$0.45 para viagens mais longas.\n",
        "distancia=float(input(\"Informe a distância a ser percorrida em Km: \"))\n",
        "if distancia<=200:\n",
        "  print(\"A passagem será R$\", distancia*0.5)\n",
        "else:\n",
        "  print(\"A passagem será R$\", distancia*0.45)\n"
      ],
      "metadata": {
        "colab": {
          "base_uri": "https://localhost:8080/"
        },
        "id": "UPhkMkw3dVrx",
        "outputId": "62f767a7-4078-4ae5-ebba-24853e67cbab"
      },
      "execution_count": 28,
      "outputs": [
        {
          "output_type": "stream",
          "name": "stdout",
          "text": [
            "Informe a distância a ser percorrida em Km: 277.65\n",
            "A passagem será R$ 124.9425\n"
          ]
        }
      ]
    },
    {
      "cell_type": "code",
      "source": [
        "#Crie um programa que leia o tamanho de três segmentos de reta.\n",
        "#Analise seus comprimentos e diga se é possível formar um triângulo com essas\n",
        "#retas. Matematicamente, para três segmentos formarem um triângulo, o comprimento\n",
        "#de cada lado deve ser menor que a soma dos outros dois.\n",
        "r1=float(input(\"Informe o valor da primeira reta: \"))\n",
        "r2=float(input(\"Informe o valor da segunda reta: \"))\n",
        "r3=float(input(\"Informe o valor da terceira reta: \"))\n",
        "if r1<r2+r3 and r2<r1+r3 and r3<r1+r2:\n",
        "  print(\"É possível construir um triângulo com esses valores\")\n",
        "else:\n",
        "  print(\"Não é possível construir um triângulo com esses valores\")"
      ],
      "metadata": {
        "colab": {
          "base_uri": "https://localhost:8080/"
        },
        "id": "11Ppk2KBeewN",
        "outputId": "55a5b9ba-249a-4fcf-a5cb-9c3cef191b58"
      },
      "execution_count": 33,
      "outputs": [
        {
          "output_type": "stream",
          "name": "stdout",
          "text": [
            "Informe o valor da primeira reta: 3\n",
            "Informe o valor da segunda reta: 4\n",
            "Informe o valor da terceira reta: 5\n",
            "É possível construir um triângulo com esses valores\n"
          ]
        }
      ]
    }
  ]
}