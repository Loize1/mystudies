{
  "nbformat": 4,
  "nbformat_minor": 0,
  "metadata": {
    "colab": {
      "name": "sequencias_basicas.ipynb",
      "provenance": [],
      "collapsed_sections": [],
      "authorship_tag": "ABX9TyNTxdWkxcpo2fv3aDX1wD8X",
      "include_colab_link": true
    },
    "kernelspec": {
      "name": "python3",
      "display_name": "Python 3"
    },
    "language_info": {
      "name": "python"
    }
  },
  "cells": [
    {
      "cell_type": "markdown",
      "metadata": {
        "id": "view-in-github",
        "colab_type": "text"
      },
      "source": [
        "<a href=\"https://colab.research.google.com/github/Loize1/mystudies/blob/main/sequencias_basicas.ipynb\" target=\"_parent\"><img src=\"https://colab.research.google.com/assets/colab-badge.svg\" alt=\"Open In Colab\"/></a>"
      ]
    },
    {
      "cell_type": "code",
      "execution_count": 1,
      "metadata": {
        "colab": {
          "base_uri": "https://localhost:8080/"
        },
        "id": "2GnCukgkQ55K",
        "outputId": "c97ecd93-cfa8-4440-d703-200fb2203e98"
      },
      "outputs": [
        {
          "output_type": "stream",
          "name": "stdout",
          "text": [
            "Hello world\n"
          ]
        }
      ],
      "source": [
        "#Escreva um programa que mostre na tela a mensagem \"Olá, Mundo!\"\n",
        "print(\"Hello world\")"
      ]
    },
    {
      "cell_type": "code",
      "source": [
        "#Faça um programa que leia o nome de uma pessoa e mostre uma mensagem de boasvindas para ela:\n",
        "#Ex:\n",
        "#Qual é o seu nome? João da Silva\n",
        "#Olá João da Silva, é um prazer te conhecer!\n",
        "a=input(\"Qual o seu nome?\")\n",
        "print(\"Olá,\", a, \", é um prazer te conhecer!\")"
      ],
      "metadata": {
        "colab": {
          "base_uri": "https://localhost:8080/"
        },
        "id": "9nqhB0UCYSra",
        "outputId": "52817f91-4de3-4440-d480-e416a511f4b2"
      },
      "execution_count": 4,
      "outputs": [
        {
          "output_type": "stream",
          "name": "stdout",
          "text": [
            "Qual o seu nome?João da Silva\n",
            "Olá, João da Silva , é um prazer te conhecer!\n"
          ]
        }
      ]
    },
    {
      "cell_type": "code",
      "source": [
        "#Crie um programa que leia o nome e o salário de um funcionário, mostrando no final uma mensagem.\n",
        "#Ex:\n",
        "#Nome do Funcionário: Maria do Carmo\n",
        "#Salário: 1850,45\n",
        "#O funcionário Maria do Carmo tem um salário de R$1850,45 em Junho.\n",
        "nome=input(\"Digite seu nome:\")\n",
        "salario=input(\"Informe seu salário: R$\")\n",
        "print(\"Colaboradore\", nome, \"tem um salário de R$\", salario, \"em Junho\")"
      ],
      "metadata": {
        "colab": {
          "base_uri": "https://localhost:8080/"
        },
        "id": "_WIPyB1QZMIb",
        "outputId": "2238194a-4475-48bf-eea2-4c9ceb7061c7"
      },
      "execution_count": 5,
      "outputs": [
        {
          "output_type": "stream",
          "name": "stdout",
          "text": [
            "Digite seu nome:Maria do Carmo\n",
            "Informe seu salário: R$1850.45\n",
            "Colaboradore Maria do Carmo tem um salário de R$ 1850.45 em Junho\n"
          ]
        }
      ]
    },
    {
      "cell_type": "code",
      "source": [
        "#Desenvolva um algoritmo que leia dois números inteiros e mostre o somatório entre eles.\n",
        "#Ex:\n",
        "#Digite um valor: 8\n",
        "#Digite outro valor: 5\n",
        "#A soma entre 8 e 5 é igual a 13\n",
        "n1=int(input(\"Diga o primeiro número:\"))\n",
        "n2=int(input(\"Diga o segundo número:\"))\n",
        "soma=n1+n2\n",
        "print(\"A soma entre\", n1, \"e\", n2, \"é igual a\", soma)"
      ],
      "metadata": {
        "colab": {
          "base_uri": "https://localhost:8080/"
        },
        "id": "otmK36q_Z7LO",
        "outputId": "a8dc3218-e235-432b-d902-9c8fc03dcdfb"
      },
      "execution_count": 6,
      "outputs": [
        {
          "output_type": "stream",
          "name": "stdout",
          "text": [
            "Diga o primeiro número:8\n",
            "Diga o segundo número:5\n",
            "A soma entre 8 e 5 é igual a 13\n"
          ]
        }
      ]
    },
    {
      "cell_type": "code",
      "source": [
        ""
      ],
      "metadata": {
        "id": "PHSLFSsdoSCE"
      },
      "execution_count": null,
      "outputs": []
    },
    {
      "cell_type": "code",
      "source": [
        "#Faça um programa que leia um número inteiro e mostre o seu antecessor e seu sucessor.\n",
        "#Ex:\n",
        "#Digite um número: 9\n",
        "#O antecessor de 9 é 8\n",
        "#O sucessor de 9 é 10\n",
        "n=int(input(\"Diga um número:\"))\n",
        "an=n-1\n",
        "su=n+1\n",
        "print(\"O antecessor de\", n, \"é\", an,\"e o sucessor é\", su)\n"
      ],
      "metadata": {
        "colab": {
          "base_uri": "https://localhost:8080/"
        },
        "id": "vBbQWZZzoSKM",
        "outputId": "ece61601-cc64-4582-8cf6-90a734edd33c"
      },
      "execution_count": 7,
      "outputs": [
        {
          "output_type": "stream",
          "name": "stdout",
          "text": [
            "Diga um número:9\n",
            "O antecessor de 9 é 8 e o sucessor é 10\n"
          ]
        }
      ]
    },
    {
      "cell_type": "code",
      "source": [
        "#Crie um algoritmo que leia um número real e mostre na tela o seu dobro e a sua terça parte.\n",
        "#Ex:\n",
        "#Digite um número: 3.5\n",
        "#O dobro de 3.5 é 7.0\n",
        "#A terça parte de 3.5 é 1.16666\n",
        "n=float(input(\"Diga um número:\"))\n",
        "do=n*2\n",
        "te=n/3\n",
        "print(\"O dobro de\", n, \"é\", do,\"e a terça parte é\", te)\n"
      ],
      "metadata": {
        "colab": {
          "base_uri": "https://localhost:8080/"
        },
        "id": "ocbjXLBGo2Gq",
        "outputId": "a0335926-8fc2-40ad-cec0-197681b562bb"
      },
      "execution_count": 8,
      "outputs": [
        {
          "output_type": "stream",
          "name": "stdout",
          "text": [
            "Diga um número:3.5\n",
            "O dobro de 3.5 é 7.0 e a terça parte é 1.1666666666666667\n"
          ]
        }
      ]
    },
    {
      "cell_type": "code",
      "source": [
        "#Desenvolva um programa que leia uma distância em metros e mostre os valores relativos em outras medidas.\n",
        "#Ex:\n",
        "#Digite uma distância em metros: 185.72\n",
        "#A distância de 85.7m corresponde a:\n",
        "#0.18572Km\n",
        "#1.8572Hm\n",
        "#18.572Dam\n",
        "#1857.2dm\n",
        "#18572.0cm\n",
        "#185720.0mm\n",
        "n=float(input(\"Diga um valor em metros:\"))\n",
        "km=n/1000\n",
        "hm=n/100\n",
        "dam=n/10\n",
        "dm=n*10\n",
        "cm=n*100\n",
        "mm=n*1000\n",
        "print(km,\"Km\",\n",
        "      hm, \"Hm\",\n",
        "      dam, \"Dam\",\n",
        "      dm, \"dm\",\n",
        "      cm, \"cm\",\n",
        "      mm, \"mm\")"
      ],
      "metadata": {
        "colab": {
          "base_uri": "https://localhost:8080/"
        },
        "id": "e2-Jv314pYp6",
        "outputId": "d445e579-8dd1-4750-dc94-d92b4a87d59f"
      },
      "execution_count": 11,
      "outputs": [
        {
          "output_type": "stream",
          "name": "stdout",
          "text": [
            "Diga um valor em metros:85.7\n",
            "0.0857 Km 0.857 Hm 8.57 Dam 857.0 dm 8570.0 cm 85700.0 mm\n"
          ]
        }
      ]
    },
    {
      "cell_type": "code",
      "source": [
        "#Faça um algoritmo que leia quanto dinheiro uma pessoa tem na carteira (em R$) e mostre quantos dólares ela pode comprar. Considere US$1,00 = R$5,08.\n",
        "carteira=float(input(\"Quanto de dinheiro você possui para viajar?\"))\n",
        "conversao=carteira/5.08\n",
        "print(\"Você pode adquirir com R$\", carteira, \", U$\", conversao)\n"
      ],
      "metadata": {
        "colab": {
          "base_uri": "https://localhost:8080/"
        },
        "id": "x9XgD3pOrrRF",
        "outputId": "7b4ebf69-1a78-47e4-f17e-6b8f4f23718f"
      },
      "execution_count": 13,
      "outputs": [
        {
          "output_type": "stream",
          "name": "stdout",
          "text": [
            "Quanto de dinheiro você possui para viajar?800\n",
            "Você pode adquirir com R$ 800.0 , U$ 157.48031496062993\n"
          ]
        }
      ]
    },
    {
      "cell_type": "code",
      "source": [
        "#Faça um algoritmo que leia a largura e altura de uma parede.\n",
        "#Calcule e mostre a área a ser pintada e a quantidade de tinta necessária para o serviço,\n",
        "#sabendo que cada litro de tinta pinta uma área de 2 metros quadrados.\n",
        "largura=float(input(\"Diga o valor da largura em metros:\"))\n",
        "altura=float(input(\"Diga o valor da altura em metros:\"))\n",
        "area=largura*altura\n",
        "tinta=area/2\n",
        "print(\"A área calculada foi de\", area,\"m² e você necessitará de\", tinta,\"litros de tinta\")\n"
      ],
      "metadata": {
        "colab": {
          "base_uri": "https://localhost:8080/"
        },
        "id": "mZG7AG3vzM-z",
        "outputId": "e9eb32b6-996f-42bd-ba2d-7813ba979309"
      },
      "execution_count": 14,
      "outputs": [
        {
          "output_type": "stream",
          "name": "stdout",
          "text": [
            "Diga o valor da largura em metros:10\n",
            "Diga o valor da altura em metros:6\n",
            "A área calculada foi de 60.0 m² e você necessitará de 30.0 litros de tinta\n"
          ]
        }
      ]
    },
    {
      "cell_type": "code",
      "source": [
        "#Desenvolva uma lógica que leia os valores de A, B e C de uma equação do segundo grau e mostre o valor de Delta\n",
        "A=int(input(\"Diga o valor de A:\"))\n",
        "B=int(input(\"Diga o valor de B:\"))\n",
        "C=int(input(\"Diga o valor de C:\"))\n",
        "delta=B**2-(4*A*C)\n",
        "print(\"O valor de Delta é\", delta)\n"
      ],
      "metadata": {
        "colab": {
          "base_uri": "https://localhost:8080/"
        },
        "id": "Zrc_IF3B3eIy",
        "outputId": "355f490d-8b27-4b66-aa72-ec7747e13827"
      },
      "execution_count": 18,
      "outputs": [
        {
          "output_type": "stream",
          "name": "stdout",
          "text": [
            "Diga o valor de A:1\n",
            "Diga o valor de B:-1\n",
            "Diga o valor de C:-12\n",
            "O valor de Delta é 49\n"
          ]
        }
      ]
    },
    {
      "cell_type": "code",
      "source": [
        "#Crie um programa que leia o preço de um produto, calcule e mostre o seu PREÇO PROMOCIONAL com 5% de desconto\n",
        "preco=float(input(\"Qual o valor do produto? R$\"))\n",
        "desconto=preco-((preco*5)/100)\n",
        "print(\"O valor do produto com desconto será R$\", desconto)\n"
      ],
      "metadata": {
        "colab": {
          "base_uri": "https://localhost:8080/"
        },
        "id": "zyqXzCWn6BlN",
        "outputId": "7c59b02c-acb7-43d5-c24c-a32e692961a1"
      },
      "execution_count": 19,
      "outputs": [
        {
          "output_type": "stream",
          "name": "stdout",
          "text": [
            "Qual o valor do produto? R$89.90\n",
            "O valor do produto com desconto será R$ 85.405\n"
          ]
        }
      ]
    },
    {
      "cell_type": "code",
      "source": [
        "#Faça um algoritmo que leia o salário de um funcionário, calcule e mostre o seu novo salário, com 15% de aumento\n",
        "salario=float(input(\"Informe o valor do salário: R$\"))\n",
        "aumento=salario+((salario*15)/100)\n",
        "print(\"O novo valor da remuneração será R$\", aumento)\n"
      ],
      "metadata": {
        "colab": {
          "base_uri": "https://localhost:8080/"
        },
        "id": "uy4FAMg866Oh",
        "outputId": "156453f7-5cb8-478a-9629-4ab42efcda26"
      },
      "execution_count": 20,
      "outputs": [
        {
          "output_type": "stream",
          "name": "stdout",
          "text": [
            "Informe o valor do salário: R$1500\n",
            "O novo valor da remuneração será R$ 1725.0\n"
          ]
        }
      ]
    },
    {
      "cell_type": "code",
      "source": [
        "#A locadora de carros precisa da sua ajuda para cobrar seus serviços. \n",
        "#Escreva um programa que pergunte a quantidade de Km percorridos por um carro alugado e a\n",
        "#quantidade de dias pelos quais ele foi alugado. \n",
        "#Calcule o preço total a pagar, sabendo que o carro custa R$90 por dia e R$0,20 por Km rodado.\n",
        "distancia=float(input(\"Quilometragem percorrida:\"))\n",
        "dias=int(input(\"Dias de aluguel:\"))\n",
        "quilom=distancia*0.2\n",
        "tempo=dias*90\n",
        "preco=quilom+tempo\n",
        "print(\"O valor a ser pago é: R$\", preco)"
      ],
      "metadata": {
        "colab": {
          "base_uri": "https://localhost:8080/"
        },
        "id": "9qx6I91U7Ugi",
        "outputId": "6dbd2d0f-8dc9-43a8-82aa-a80f23ff078e"
      },
      "execution_count": 21,
      "outputs": [
        {
          "output_type": "stream",
          "name": "stdout",
          "text": [
            "Quilometragem percorrida:255.7\n",
            "Dias de aluguel:5\n",
            "O valor a ser pago é: R$ 501.14\n"
          ]
        }
      ]
    },
    {
      "cell_type": "code",
      "source": [
        "#Crie um programa que leia o número de dias trabalhados em um mês e mostre o\n",
        "#salário de um funcionário, sabendo que ele trabalha 8 horas por dia e ganha R$25\n",
        "#por hora trabalhada.\n",
        "dias=int(input(\"Informe os dias trabalhados:\"))\n",
        "salario=25*8*dias \n",
        "print(\"O salário será de R$\", salario)\n"
      ],
      "metadata": {
        "colab": {
          "base_uri": "https://localhost:8080/"
        },
        "id": "I3W7CEY48rlG",
        "outputId": "14404923-f4f2-4ba7-e762-78343a3bde0f"
      },
      "execution_count": 22,
      "outputs": [
        {
          "output_type": "stream",
          "name": "stdout",
          "text": [
            "Informe os dias trabalhados:23\n",
            "O salário será de R$ 4600\n"
          ]
        }
      ]
    },
    {
      "cell_type": "code",
      "source": [
        "#Escreva um programa para calcular a redução do tempo de vida de um fumante. \n",
        "#Pergunte a quantidade de cigarros fumados por dias e quantos anos ele já fumou. \n",
        "#Considere que um fumante perde 10 min de vida a cada cigarro. Calcule\n",
        "#quantos dias de vida um fumante perderá e exiba o total em dias.\n",
        "cigarros=int(input(\"Quantos cigarros você consome por dia?\"))\n",
        "anos=int(input(\"Há quantos anos você consome?\"))\n",
        "consumo=((cigarros*10)/1440)*(anos*365)\n",
        "print(\"O tempo de vida perdido foi\", consumo, \"dias\")\n"
      ],
      "metadata": {
        "colab": {
          "base_uri": "https://localhost:8080/"
        },
        "id": "P0RFchc-9ulk",
        "outputId": "cc4d1c57-af1f-4bcb-cfd4-2dcb86373090"
      },
      "execution_count": 23,
      "outputs": [
        {
          "output_type": "stream",
          "name": "stdout",
          "text": [
            "Quantos cigarros você consome por dia?5\n",
            "Há quantos anos você consome?2\n",
            "O tempo de vida perdido foi 25.347222222222225 dias\n"
          ]
        }
      ]
    },
    {
      "cell_type": "code",
      "source": [
        ""
      ],
      "metadata": {
        "id": "4vp_e-dtnYuU"
      },
      "execution_count": null,
      "outputs": []
    }
  ]
}