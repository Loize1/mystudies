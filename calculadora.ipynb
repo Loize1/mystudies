{
 "cells": [
  {
   "cell_type": "code",
   "execution_count": 2,
   "id": "67ab71f6",
   "metadata": {},
   "outputs": [
    {
     "data": {
      "text/plain": [
       "25"
      ]
     },
     "execution_count": 2,
     "metadata": {},
     "output_type": "execute_result"
    }
   ],
   "source": [
    "soma = lambda a, b: a + b\n",
    "subtracao = lambda c, d: c - d\n",
    "multiplicacao = lambda e, f: e*f\n",
    "divisao = lambda x, y: x/y\n",
    "\n",
    "soma(12, 13)"
   ]
  },
  {
   "cell_type": "code",
   "execution_count": 3,
   "id": "80ebc708",
   "metadata": {},
   "outputs": [
    {
     "data": {
      "text/plain": [
       "-13"
      ]
     },
     "execution_count": 3,
     "metadata": {},
     "output_type": "execute_result"
    }
   ],
   "source": [
    "subtracao(32, 45)"
   ]
  },
  {
   "cell_type": "code",
   "execution_count": 7,
   "id": "f67249be",
   "metadata": {},
   "outputs": [
    {
     "name": "stdout",
     "output_type": "stream",
     "text": [
      "\n",
      "*****CALCULADORA*****\n"
     ]
    },
    {
     "data": {
      "text/plain": [
       "9"
      ]
     },
     "execution_count": 7,
     "metadata": {},
     "output_type": "execute_result"
    }
   ],
   "source": [
    "print(\"\\n*****CALCULADORA*****\")\n",
    "\n",
    "def soma(arg1, arg2):\n",
    "    return arg1 + arg2\n",
    "\n",
    "def subtracao(arg3, arg4):\n",
    "    return arg3 - arg4\n",
    "\n",
    "def multiplicacao(arg5, arg6):\n",
    "    return arg5 * arg6\n",
    "\n",
    "def divisao(arg7, arg8):\n",
    "    return arg7 + arg8\n",
    "\n",
    "soma(6, 3)"
   ]
  },
  {
   "cell_type": "code",
   "execution_count": 17,
   "id": "2557bf07",
   "metadata": {},
   "outputs": [
    {
     "name": "stdout",
     "output_type": "stream",
     "text": [
      "\n",
      "*****CALCULADORA*****\n",
      "\n",
      " Selecione o número da operação desejada: \n",
      "\n",
      " 1 - Soma \n",
      " 2 - Substração \n",
      " 3 - Multiplicação \n",
      " 4 -  Divisão\n",
      "\n",
      " Digite sua opção 1/2/3/4: 1\n",
      "1\n"
     ]
    }
   ],
   "source": [
    "print(\"\\n*****CALCULADORA*****\")\n",
    "\n",
    "print(\"\\n Selecione o número da operação desejada: \")\n",
    "\n",
    "print(\"\\n 1 - Soma\", \"\\n 2 - Substração\", \"\\n 3 - Multiplicação\", \"\\n 4 -  Divisão\")\n",
    "\n",
    "escolha = print(int(input(\"\\n Digite sua opção 1/2/3/4: \")))\n",
    "\n",
    "soma = lambda a, b: a + b\n",
    "subtracao = lambda c, d: c - d\n",
    "multiplicacao = lambda e, f: e*f\n",
    "divisao = lambda x, y: x/y\n",
    "\n",
    "if escolha == 1:\n",
    "    a = print(int(input(\"Digite o primeiro número: \")))\n",
    "    b = print(int(input(\"Digite o segundo número: \")))\n",
    "    print(soma(a, b))\n",
    "    "
   ]
  },
  {
   "cell_type": "code",
   "execution_count": 33,
   "id": "badf61cb",
   "metadata": {},
   "outputs": [
    {
     "name": "stdout",
     "output_type": "stream",
     "text": [
      "\n",
      "******************* Python Calculator *******************\n",
      "\n",
      " Selecione o número da operação desejada: \n",
      "\n",
      " 1 - Soma \n",
      " 2 - Substração \n",
      " 3 - Multiplicação \n",
      " 4 -  Divisão\n",
      "\n",
      " Digite sua opção 1/2/3/4: 5\n",
      "5\n",
      "Opção inválida\n"
     ]
    }
   ],
   "source": [
    "print(\"\\n******************* Python Calculator *******************\")\n",
    "\n",
    "print(\"\\n Selecione o número da operação desejada: \")\n",
    "\n",
    "print(\"\\n 1 - Soma\", \"\\n 2 - Substração\", \"\\n 3 - Multiplicação\", \"\\n 4 -  Divisão\")\n",
    "\n",
    "escolha = int(input(\"\\n Digite sua opção 1/2/3/4: \"))\n",
    "print(escolha)\n",
    "\n",
    "\n",
    "soma = lambda a, b: a + b\n",
    "subtracao = lambda c, d: c - d\n",
    "multiplicacao = lambda e, f: e*f\n",
    "divisao = lambda x, y: x/y\n",
    "\n",
    "\n",
    "if escolha == 1:\n",
    "    a = int(input(\"Digite o primeiro número: \"))\n",
    "    b = int(input(\"Digite o segundo número: \"))\n",
    "    resultado = soma(a, b)\n",
    "    print(\"\\n\", a ,\"+\", b, \"é igual a\", resultado)\n",
    "    \n",
    "elif escolha == 2:\n",
    "    c = int(input(\"Digite o primeiro número: \"))\n",
    "    d = int(input(\"Digite o segundo número: \"))\n",
    "    resultado = subtracao(c, d)\n",
    "    print(\"\\n\", c ,\"-\", d, \"é igual a\", resultado)\n",
    "    \n",
    "elif escolha == 3:\n",
    "    e = int(input(\"Digite o primeiro número: \"))\n",
    "    f = int(input(\"Digite o segundo número: \"))\n",
    "    resultado = multiplicacao(e, f)\n",
    "    print(\"\\n\", e ,\"*\", f, \"é igual a\", resultado)\n",
    "    \n",
    "elif escolha == 4:\n",
    "    x = int(input(\"Digite o primeiro número: \"))\n",
    "    y = int(input(\"Digite o segundo número: \"))\n",
    "    resultado = divisao(x, y)\n",
    "    print(\"\\n\", x ,\"/\", y, \"é igual a\", resultado)\n",
    "    \n",
    "else:\n",
    "    print(\"Opção inválida\")"
   ]
  },
  {
   "cell_type": "code",
   "execution_count": null,
   "id": "dd3e039c",
   "metadata": {},
   "outputs": [],
   "source": []
  },
  {
   "cell_type": "code",
   "execution_count": null,
   "id": "cc6d4136",
   "metadata": {},
   "outputs": [],
   "source": []
  }
 ],
 "metadata": {
  "kernelspec": {
   "display_name": "Python 3 (ipykernel)",
   "language": "python",
   "name": "python3"
  },
  "language_info": {
   "codemirror_mode": {
    "name": "ipython",
    "version": 3
   },
   "file_extension": ".py",
   "mimetype": "text/x-python",
   "name": "python",
   "nbconvert_exporter": "python",
   "pygments_lexer": "ipython3",
   "version": "3.9.12"
  }
 },
 "nbformat": 4,
 "nbformat_minor": 5
}
