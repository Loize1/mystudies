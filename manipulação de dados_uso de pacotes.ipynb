{
 "cells": [
  {
   "cell_type": "code",
   "execution_count": 1,
   "id": "06d7a4d7",
   "metadata": {},
   "outputs": [],
   "source": [
    "import pandas as pd"
   ]
  },
  {
   "cell_type": "code",
   "execution_count": 3,
   "id": "ad2b6916",
   "metadata": {},
   "outputs": [],
   "source": [
    "arquivo = \"Salary_dataset.csv\""
   ]
  },
  {
   "cell_type": "code",
   "execution_count": 4,
   "id": "2809c58f",
   "metadata": {},
   "outputs": [],
   "source": [
    "dataframe = pd.read_csv(arquivo)"
   ]
  },
  {
   "cell_type": "code",
   "execution_count": 5,
   "id": "10b5ff06",
   "metadata": {},
   "outputs": [
    {
     "data": {
      "text/html": [
       "<div>\n",
       "<style scoped>\n",
       "    .dataframe tbody tr th:only-of-type {\n",
       "        vertical-align: middle;\n",
       "    }\n",
       "\n",
       "    .dataframe tbody tr th {\n",
       "        vertical-align: top;\n",
       "    }\n",
       "\n",
       "    .dataframe thead th {\n",
       "        text-align: right;\n",
       "    }\n",
       "</style>\n",
       "<table border=\"1\" class=\"dataframe\">\n",
       "  <thead>\n",
       "    <tr style=\"text-align: right;\">\n",
       "      <th></th>\n",
       "      <th>Unnamed: 0</th>\n",
       "      <th>YearsExperience</th>\n",
       "      <th>Salary</th>\n",
       "    </tr>\n",
       "  </thead>\n",
       "  <tbody>\n",
       "    <tr>\n",
       "      <th>0</th>\n",
       "      <td>0</td>\n",
       "      <td>1.2</td>\n",
       "      <td>39344.0</td>\n",
       "    </tr>\n",
       "    <tr>\n",
       "      <th>1</th>\n",
       "      <td>1</td>\n",
       "      <td>1.4</td>\n",
       "      <td>46206.0</td>\n",
       "    </tr>\n",
       "    <tr>\n",
       "      <th>2</th>\n",
       "      <td>2</td>\n",
       "      <td>1.6</td>\n",
       "      <td>37732.0</td>\n",
       "    </tr>\n",
       "    <tr>\n",
       "      <th>3</th>\n",
       "      <td>3</td>\n",
       "      <td>2.1</td>\n",
       "      <td>43526.0</td>\n",
       "    </tr>\n",
       "    <tr>\n",
       "      <th>4</th>\n",
       "      <td>4</td>\n",
       "      <td>2.3</td>\n",
       "      <td>39892.0</td>\n",
       "    </tr>\n",
       "  </tbody>\n",
       "</table>\n",
       "</div>"
      ],
      "text/plain": [
       "   Unnamed: 0  YearsExperience   Salary\n",
       "0           0              1.2  39344.0\n",
       "1           1              1.4  46206.0\n",
       "2           2              1.6  37732.0\n",
       "3           3              2.1  43526.0\n",
       "4           4              2.3  39892.0"
      ]
     },
     "execution_count": 5,
     "metadata": {},
     "output_type": "execute_result"
    }
   ],
   "source": [
    "dataframe.head()"
   ]
  },
  {
   "cell_type": "code",
   "execution_count": 7,
   "id": "4063298f",
   "metadata": {},
   "outputs": [
    {
     "name": "stdout",
     "output_type": "stream",
     "text": [
      "Batatinha quando nasce \n",
      "Espalha a rama pelo chão \n",
      "Menininha quando dorme põe a mão no coração\n"
     ]
    }
   ],
   "source": [
    "texto = \"Batatinha quando nasce \\n\"\n",
    "texto = texto + \"Espalha a rama pelo chão \\n\"\n",
    "texto += \"Menininha quando dorme põe a mão no coração\"\n",
    "print(texto)"
   ]
  },
  {
   "cell_type": "code",
   "execution_count": 2,
   "id": "c6476827",
   "metadata": {},
   "outputs": [],
   "source": [
    "import os"
   ]
  },
  {
   "cell_type": "code",
   "execution_count": 9,
   "id": "dd5bfc73",
   "metadata": {},
   "outputs": [],
   "source": [
    "arquivo = open(os.path.join(\"poema.txt\"), \"w\")"
   ]
  },
  {
   "cell_type": "code",
   "execution_count": 11,
   "id": "e1b35294",
   "metadata": {},
   "outputs": [],
   "source": [
    "for i in texto.split():\n",
    "    arquivo.write(i + \" \")"
   ]
  },
  {
   "cell_type": "code",
   "execution_count": 12,
   "id": "553fab86",
   "metadata": {},
   "outputs": [],
   "source": [
    "arquivo.close()"
   ]
  },
  {
   "cell_type": "code",
   "execution_count": 13,
   "id": "03138aef",
   "metadata": {},
   "outputs": [
    {
     "name": "stdout",
     "output_type": "stream",
     "text": [
      "Batatinha quando nasce Espalha a rama pelo chão Menininha quando dorme põe a mão no coração \n"
     ]
    }
   ],
   "source": [
    "arquivo = open(\"poema.txt\", \"r\")\n",
    "leitura = arquivo.read()\n",
    "arquivo.close()\n",
    "print(leitura)"
   ]
  },
  {
   "cell_type": "code",
   "execution_count": 14,
   "id": "6339e810",
   "metadata": {},
   "outputs": [
    {
     "name": "stdout",
     "output_type": "stream",
     "text": [
      "Batatinha quando nasce Espalha a rama pelo chão Menininha quando dorme põe a mão no coração \n"
     ]
    }
   ],
   "source": [
    " with open (\"poema.txt\", \"r\") as arquivo:\n",
    "        leitura = arquivo.read()\n",
    "print(leitura)"
   ]
  },
  {
   "cell_type": "code",
   "execution_count": 15,
   "id": "f8d7f518",
   "metadata": {},
   "outputs": [
    {
     "name": "stdout",
     "output_type": "stream",
     "text": [
      "92\n"
     ]
    }
   ],
   "source": [
    "print(len(leitura))"
   ]
  },
  {
   "cell_type": "code",
   "execution_count": 3,
   "id": "61ea86a9",
   "metadata": {},
   "outputs": [
    {
     "name": "stdout",
     "output_type": "stream",
     "text": [
      "Atual diretório:  /home/loize/Estudos/Python\n"
     ]
    }
   ],
   "source": [
    "atual_dir = os.getcwd()\n",
    "print(\"Atual diretório: \", atual_dir)"
   ]
  },
  {
   "cell_type": "code",
   "execution_count": 7,
   "id": "5ba92431",
   "metadata": {},
   "outputs": [
    {
     "name": "stdout",
     "output_type": "stream",
     "text": [
      "['poema.txt', 'Node.ipynb', 'DSA', 'Lista_encadeada1.ipynb', 'Operadores de atribuição.ipynb', 'Salary_dataset.csv', '2022.csv', 'Lista_encadeada.ipynb', 'manipulação de arquivos_estudo (txt).ipynb', 'classe.ipynb', 'Abrindo arquivo csv .ipynb', 'Funções Built-in.png', 'manipulação de dados_uso de pacotes.ipynb', 'Arquivos DSA', 'tentando importar arquivo.ipynb', 'pokemon.csv', 'b.txt', 'LinkedList.ipynb', 'texto.txt', '.ipynb_checkpoints', 'game_v2.py', 'g.txt', 'Testes.ipynb']\n"
     ]
    }
   ],
   "source": [
    "print(os.listdir(\"/home/loize/Estudos/Python\"))"
   ]
  },
  {
   "cell_type": "code",
   "execution_count": 11,
   "id": "b7227d89",
   "metadata": {},
   "outputs": [
    {
     "name": "stdout",
     "output_type": "stream",
     "text": [
      "<class 'list'>\n"
     ]
    }
   ],
   "source": [
    "lista = os.listdir(\"/home/loize/Estudos/Python\")\n",
    "print(type(lista))"
   ]
  },
  {
   "cell_type": "code",
   "execution_count": 14,
   "id": "b967838f",
   "metadata": {},
   "outputs": [],
   "source": [
    "os.chdir(\"..\")"
   ]
  },
  {
   "cell_type": "code",
   "execution_count": 16,
   "id": "2c384b84",
   "metadata": {},
   "outputs": [
    {
     "name": "stdout",
     "output_type": "stream",
     "text": [
      "/home/loize/Estudos\n"
     ]
    }
   ],
   "source": [
    "print(os.getcwd())"
   ]
  },
  {
   "cell_type": "code",
   "execution_count": 18,
   "id": "63fe5428",
   "metadata": {},
   "outputs": [],
   "source": [
    "os.mkdir(\"Arquivos\")"
   ]
  },
  {
   "cell_type": "code",
   "execution_count": 19,
   "id": "3fbed517",
   "metadata": {},
   "outputs": [],
   "source": [
    "os.chdir(\"Arquivos\")"
   ]
  },
  {
   "cell_type": "code",
   "execution_count": 20,
   "id": "d1b8f406",
   "metadata": {},
   "outputs": [
    {
     "name": "stdout",
     "output_type": "stream",
     "text": [
      "/home/loize/Estudos/Arquivos\n"
     ]
    }
   ],
   "source": [
    "print(os.getcwd())"
   ]
  },
  {
   "cell_type": "code",
   "execution_count": 22,
   "id": "86339dce",
   "metadata": {},
   "outputs": [],
   "source": [
    "os.chdir(\"..\")"
   ]
  },
  {
   "cell_type": "code",
   "execution_count": 23,
   "id": "35dd12a9",
   "metadata": {},
   "outputs": [],
   "source": [
    "os.rmdir(\"Arquivos\")"
   ]
  },
  {
   "cell_type": "code",
   "execution_count": null,
   "id": "c790c12d",
   "metadata": {},
   "outputs": [],
   "source": []
  }
 ],
 "metadata": {
  "kernelspec": {
   "display_name": "Python 3 (ipykernel)",
   "language": "python",
   "name": "python3"
  },
  "language_info": {
   "codemirror_mode": {
    "name": "ipython",
    "version": 3
   },
   "file_extension": ".py",
   "mimetype": "text/x-python",
   "name": "python",
   "nbconvert_exporter": "python",
   "pygments_lexer": "ipython3",
   "version": "3.9.12"
  }
 },
 "nbformat": 4,
 "nbformat_minor": 5
}
