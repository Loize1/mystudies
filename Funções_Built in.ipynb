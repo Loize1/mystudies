{
 "cells": [
  {
   "cell_type": "markdown",
   "id": "86f5923a",
   "metadata": {},
   "source": [
    "Função map"
   ]
  },
  {
   "cell_type": "code",
   "execution_count": 1,
   "id": "7622dd01",
   "metadata": {},
   "outputs": [],
   "source": [
    "def potenciacao(x):\n",
    "    return x**2"
   ]
  },
  {
   "cell_type": "code",
   "execution_count": 2,
   "id": "298b90be",
   "metadata": {},
   "outputs": [],
   "source": [
    "numeros = [1, 2, 3, 4, 5]"
   ]
  },
  {
   "cell_type": "code",
   "execution_count": 4,
   "id": "accd9d3d",
   "metadata": {},
   "outputs": [
    {
     "name": "stdout",
     "output_type": "stream",
     "text": [
      "[1, 4, 9, 16, 25]\n"
     ]
    }
   ],
   "source": [
    "numeros_quadrado = list(map(potenciacao, numeros))\n",
    "print(numeros_quadrado)"
   ]
  },
  {
   "cell_type": "code",
   "execution_count": 8,
   "id": "fb75333c",
   "metadata": {},
   "outputs": [],
   "source": [
    "b = [6, 7, 8, 9, 10]"
   ]
  },
  {
   "cell_type": "code",
   "execution_count": 9,
   "id": "e7389826",
   "metadata": {},
   "outputs": [
    {
     "data": {
      "text/plain": [
       "[7, 9, 11, 13, 15]"
      ]
     },
     "execution_count": 9,
     "metadata": {},
     "output_type": "execute_result"
    }
   ],
   "source": [
    "list(map(lambda x, y: x+y, numeros, b))"
   ]
  },
  {
   "cell_type": "markdown",
   "id": "9fd630e4",
   "metadata": {},
   "source": [
    "Função reduce"
   ]
  },
  {
   "cell_type": "code",
   "execution_count": 10,
   "id": "8a00af1f",
   "metadata": {},
   "outputs": [],
   "source": [
    "from functools import reduce"
   ]
  },
  {
   "cell_type": "code",
   "execution_count": 11,
   "id": "98bb742b",
   "metadata": {},
   "outputs": [],
   "source": [
    "def soma(a, b):\n",
    "    x = a + b\n",
    "    return x"
   ]
  },
  {
   "cell_type": "code",
   "execution_count": 12,
   "id": "acae9ebc",
   "metadata": {},
   "outputs": [
    {
     "data": {
      "text/plain": [
       "15"
      ]
     },
     "execution_count": 12,
     "metadata": {},
     "output_type": "execute_result"
    }
   ],
   "source": [
    "reduce(soma, numeros)"
   ]
  },
  {
   "cell_type": "code",
   "execution_count": 13,
   "id": "223db555",
   "metadata": {},
   "outputs": [
    {
     "data": {
      "text/plain": [
       "15"
      ]
     },
     "execution_count": 13,
     "metadata": {},
     "output_type": "execute_result"
    }
   ],
   "source": [
    "reduce(lambda x,y: x+y, numeros)"
   ]
  },
  {
   "cell_type": "code",
   "execution_count": 16,
   "id": "0b1c9de8",
   "metadata": {},
   "outputs": [],
   "source": [
    "max_valor = lambda a, b: a if (a > b) else b"
   ]
  },
  {
   "cell_type": "code",
   "execution_count": 17,
   "id": "bac85960",
   "metadata": {},
   "outputs": [
    {
     "data": {
      "text/plain": [
       "function"
      ]
     },
     "execution_count": 17,
     "metadata": {},
     "output_type": "execute_result"
    }
   ],
   "source": [
    "type(max_valor)"
   ]
  },
  {
   "cell_type": "code",
   "execution_count": 18,
   "id": "80138ba3",
   "metadata": {},
   "outputs": [
    {
     "data": {
      "text/plain": [
       "5"
      ]
     },
     "execution_count": 18,
     "metadata": {},
     "output_type": "execute_result"
    }
   ],
   "source": [
    "reduce(max_valor, numeros)"
   ]
  },
  {
   "cell_type": "markdown",
   "id": "e51712cc",
   "metadata": {},
   "source": [
    "Função filter"
   ]
  },
  {
   "cell_type": "code",
   "execution_count": 1,
   "id": "3fa46b1b",
   "metadata": {},
   "outputs": [],
   "source": [
    "def par (x):\n",
    "    if x%2 == 0:\n",
    "        return True\n",
    "    else:\n",
    "        return False"
   ]
  },
  {
   "cell_type": "code",
   "execution_count": 2,
   "id": "8c1b1b2f",
   "metadata": {},
   "outputs": [
    {
     "data": {
      "text/plain": [
       "True"
      ]
     },
     "execution_count": 2,
     "metadata": {},
     "output_type": "execute_result"
    }
   ],
   "source": [
    "par(100)"
   ]
  },
  {
   "cell_type": "code",
   "execution_count": 3,
   "id": "ff5cbdcc",
   "metadata": {},
   "outputs": [
    {
     "data": {
      "text/plain": [
       "False"
      ]
     },
     "execution_count": 3,
     "metadata": {},
     "output_type": "execute_result"
    }
   ],
   "source": [
    "par(65)"
   ]
  },
  {
   "cell_type": "code",
   "execution_count": 4,
   "id": "329fc900",
   "metadata": {},
   "outputs": [],
   "source": [
    "import random"
   ]
  },
  {
   "cell_type": "code",
   "execution_count": 7,
   "id": "07476981",
   "metadata": {},
   "outputs": [],
   "source": [
    "lista = random.sample(range(100), 20)"
   ]
  },
  {
   "cell_type": "code",
   "execution_count": 8,
   "id": "800ea8e5",
   "metadata": {},
   "outputs": [
    {
     "name": "stdout",
     "output_type": "stream",
     "text": [
      "[58, 64, 28, 36, 10, 7, 15, 30, 66, 4, 47, 90, 87, 14, 61, 77, 1, 41, 83, 48]\n"
     ]
    }
   ],
   "source": [
    "print(lista)"
   ]
  },
  {
   "cell_type": "code",
   "execution_count": 9,
   "id": "2ed6270c",
   "metadata": {},
   "outputs": [
    {
     "data": {
      "text/plain": [
       "<filter at 0x7fdb5c7ab9a0>"
      ]
     },
     "execution_count": 9,
     "metadata": {},
     "output_type": "execute_result"
    }
   ],
   "source": [
    "filter(par, lista)"
   ]
  },
  {
   "cell_type": "code",
   "execution_count": 10,
   "id": "ddf832a3",
   "metadata": {},
   "outputs": [
    {
     "data": {
      "text/plain": [
       "[58, 64, 28, 36, 10, 30, 66, 4, 90, 14, 48]"
      ]
     },
     "execution_count": 10,
     "metadata": {},
     "output_type": "execute_result"
    }
   ],
   "source": [
    "list(filter(par, lista))"
   ]
  },
  {
   "cell_type": "code",
   "execution_count": 11,
   "id": "ed27937a",
   "metadata": {},
   "outputs": [
    {
     "data": {
      "text/plain": [
       "[58, 64, 28, 36, 10, 30, 66, 4, 90, 14, 48]"
      ]
     },
     "execution_count": 11,
     "metadata": {},
     "output_type": "execute_result"
    }
   ],
   "source": [
    "list(filter(lambda x: x%2==0, lista))"
   ]
  },
  {
   "cell_type": "code",
   "execution_count": 13,
   "id": "b9fbaa65",
   "metadata": {},
   "outputs": [
    {
     "data": {
      "text/plain": [
       "[58, 64, 36, 66, 47, 90, 87, 61, 77, 41, 83, 48]"
      ]
     },
     "execution_count": 13,
     "metadata": {},
     "output_type": "execute_result"
    }
   ],
   "source": [
    "list(filter(lambda x: x > 35, lista))"
   ]
  },
  {
   "cell_type": "markdown",
   "id": "93268d01",
   "metadata": {},
   "source": [
    "Função zip"
   ]
  },
  {
   "cell_type": "code",
   "execution_count": 14,
   "id": "6e6bb8a9",
   "metadata": {},
   "outputs": [],
   "source": [
    "x = [1, 2, 3]\n",
    "y = [4, 5, 6]"
   ]
  },
  {
   "cell_type": "code",
   "execution_count": 15,
   "id": "54eb837a",
   "metadata": {},
   "outputs": [
    {
     "data": {
      "text/plain": [
       "[(1, 4), (2, 5), (3, 6)]"
      ]
     },
     "execution_count": 15,
     "metadata": {},
     "output_type": "execute_result"
    }
   ],
   "source": [
    "list(zip(x, y))"
   ]
  },
  {
   "cell_type": "code",
   "execution_count": 18,
   "id": "577d92b2",
   "metadata": {},
   "outputs": [
    {
     "name": "stdout",
     "output_type": "stream",
     "text": [
      "[1, 2, 3, 4, 5, 6]\n"
     ]
    }
   ],
   "source": [
    "b = x + y\n",
    "print(b)"
   ]
  },
  {
   "cell_type": "code",
   "execution_count": 22,
   "id": "fed22147",
   "metadata": {},
   "outputs": [],
   "source": [
    "d1 = {\"c1\": 1, \"c2\": 2, \"c3\": 3}\n",
    "d2 = {\"c4\": 4, \"c5\": 5, \"c6\": 6}"
   ]
  },
  {
   "cell_type": "code",
   "execution_count": 23,
   "id": "1397e5a7",
   "metadata": {},
   "outputs": [
    {
     "data": {
      "text/plain": [
       "[('c1', 'c4'), ('c2', 'c5'), ('c3', 'c6')]"
      ]
     },
     "execution_count": 23,
     "metadata": {},
     "output_type": "execute_result"
    }
   ],
   "source": [
    "list(zip(d1, d2))"
   ]
  },
  {
   "cell_type": "code",
   "execution_count": 24,
   "id": "9209393b",
   "metadata": {},
   "outputs": [
    {
     "data": {
      "text/plain": [
       "[('c1', 4), ('c2', 5), ('c3', 6)]"
      ]
     },
     "execution_count": 24,
     "metadata": {},
     "output_type": "execute_result"
    }
   ],
   "source": [
    "list(zip(d1, d2.values()))"
   ]
  },
  {
   "cell_type": "code",
   "execution_count": 25,
   "id": "ec132019",
   "metadata": {},
   "outputs": [
    {
     "data": {
      "text/plain": [
       "[(1, 4), (2, 5), (3, 6)]"
      ]
     },
     "execution_count": 25,
     "metadata": {},
     "output_type": "execute_result"
    }
   ],
   "source": [
    "list(zip(d1.values(), d2.values()))"
   ]
  },
  {
   "cell_type": "code",
   "execution_count": 26,
   "id": "ec435dd3",
   "metadata": {},
   "outputs": [],
   "source": [
    "def trocaValores(d1, d2):\n",
    "    dicTemp = {}\n",
    "    \n",
    "    for d1chave, d2valor in zip(d1, d2.values()):\n",
    "        dicTemp[d1chave] = d2valor\n",
    "    return dicTemp"
   ]
  },
  {
   "cell_type": "code",
   "execution_count": 27,
   "id": "078ce48b",
   "metadata": {},
   "outputs": [
    {
     "data": {
      "text/plain": [
       "{'c1': 4, 'c2': 5, 'c3': 6}"
      ]
     },
     "execution_count": 27,
     "metadata": {},
     "output_type": "execute_result"
    }
   ],
   "source": [
    "trocaValores(d1, d2)"
   ]
  },
  {
   "cell_type": "code",
   "execution_count": 30,
   "id": "8053fa44",
   "metadata": {},
   "outputs": [],
   "source": [
    "d3 = trocaValores(d1, d2)"
   ]
  },
  {
   "cell_type": "code",
   "execution_count": 31,
   "id": "df418f1b",
   "metadata": {},
   "outputs": [
    {
     "name": "stdout",
     "output_type": "stream",
     "text": [
      "{'c1': 4, 'c2': 5, 'c3': 6}\n"
     ]
    }
   ],
   "source": [
    "print(d3)"
   ]
  },
  {
   "cell_type": "code",
   "execution_count": 34,
   "id": "300b7a96",
   "metadata": {},
   "outputs": [],
   "source": [
    "d3[\"c7\"] = 10"
   ]
  },
  {
   "cell_type": "code",
   "execution_count": 35,
   "id": "fba65549",
   "metadata": {},
   "outputs": [
    {
     "name": "stdout",
     "output_type": "stream",
     "text": [
      "{'c1': 4, 'c2': 5, 'c3': 6, 'c7': 10}\n"
     ]
    }
   ],
   "source": [
    "print(d3)"
   ]
  },
  {
   "cell_type": "markdown",
   "id": "558aeaf4",
   "metadata": {},
   "source": [
    "Função enumerate"
   ]
  },
  {
   "cell_type": "code",
   "execution_count": 37,
   "id": "99c7214c",
   "metadata": {},
   "outputs": [
    {
     "data": {
      "text/plain": [
       "[(0, 58),\n",
       " (1, 64),\n",
       " (2, 28),\n",
       " (3, 36),\n",
       " (4, 10),\n",
       " (5, 7),\n",
       " (6, 15),\n",
       " (7, 30),\n",
       " (8, 66),\n",
       " (9, 4),\n",
       " (10, 47),\n",
       " (11, 90),\n",
       " (12, 87),\n",
       " (13, 14),\n",
       " (14, 61),\n",
       " (15, 77),\n",
       " (16, 1),\n",
       " (17, 41),\n",
       " (18, 83),\n",
       " (19, 48)]"
      ]
     },
     "execution_count": 37,
     "metadata": {},
     "output_type": "execute_result"
    }
   ],
   "source": [
    "list(enumerate(lista))"
   ]
  },
  {
   "cell_type": "code",
   "execution_count": 38,
   "id": "5f9776c8",
   "metadata": {},
   "outputs": [
    {
     "name": "stdout",
     "output_type": "stream",
     "text": [
      "0 58\n",
      "1 64\n",
      "2 28\n",
      "3 36\n",
      "4 10\n",
      "5 7\n",
      "6 15\n",
      "7 30\n",
      "8 66\n",
      "9 4\n",
      "10 47\n",
      "11 90\n",
      "12 87\n",
      "13 14\n",
      "14 61\n",
      "15 77\n",
      "16 1\n",
      "17 41\n",
      "18 83\n",
      "19 48\n"
     ]
    }
   ],
   "source": [
    "for indice, valor in enumerate(lista):\n",
    "    print(indice, valor)"
   ]
  },
  {
   "cell_type": "code",
   "execution_count": 39,
   "id": "c90397f7",
   "metadata": {},
   "outputs": [
    {
     "name": "stdout",
     "output_type": "stream",
     "text": [
      "0 58\n",
      "1 64\n",
      "2 28\n",
      "3 36\n",
      "4 10\n",
      "5 7\n"
     ]
    }
   ],
   "source": [
    "for indice, valor in enumerate(lista):\n",
    "    if indice > 5:\n",
    "        break\n",
    "    else:\n",
    "        print(indice, valor)"
   ]
  },
  {
   "cell_type": "code",
   "execution_count": 40,
   "id": "ee95ec14",
   "metadata": {},
   "outputs": [
    {
     "name": "stdout",
     "output_type": "stream",
     "text": [
      "0 0\n",
      "1 1\n",
      "2 2\n",
      "3 3\n",
      "4 4\n",
      "5 5\n",
      "6 6\n",
      "7 7\n",
      "8 8\n",
      "9 9\n"
     ]
    }
   ],
   "source": [
    "for i, item in enumerate(range(10)):\n",
    "    print(i, item)"
   ]
  },
  {
   "cell_type": "code",
   "execution_count": null,
   "id": "585380fd",
   "metadata": {},
   "outputs": [],
   "source": []
  }
 ],
 "metadata": {
  "kernelspec": {
   "display_name": "Python 3 (ipykernel)",
   "language": "python",
   "name": "python3"
  },
  "language_info": {
   "codemirror_mode": {
    "name": "ipython",
    "version": 3
   },
   "file_extension": ".py",
   "mimetype": "text/x-python",
   "name": "python",
   "nbconvert_exporter": "python",
   "pygments_lexer": "ipython3",
   "version": "3.9.12"
  }
 },
 "nbformat": 4,
 "nbformat_minor": 5
}
