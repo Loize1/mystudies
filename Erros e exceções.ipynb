{
 "cells": [
  {
   "cell_type": "markdown",
   "id": "506893aa",
   "metadata": {},
   "source": [
    "Try, except and finally"
   ]
  },
  {
   "cell_type": "code",
   "execution_count": 5,
   "id": "d3c14af4",
   "metadata": {},
   "outputs": [
    {
     "name": "stdout",
     "output_type": "stream",
     "text": [
      "Operação não permitida\n"
     ]
    }
   ],
   "source": [
    "try:\n",
    "    8 + \"s\"\n",
    "except TypeError:\n",
    "    print(\"Operação não permitida\")"
   ]
  },
  {
   "cell_type": "code",
   "execution_count": 6,
   "id": "0d781532",
   "metadata": {},
   "outputs": [
    {
     "name": "stdout",
     "output_type": "stream",
     "text": [
      "Gravado com sucesso\n"
     ]
    }
   ],
   "source": [
    "try:\n",
    "    f = open(\"testando.txt\", \"w\")\n",
    "    f.write(\"Palavras. Palavras. Palavras\")\n",
    "except IOError:\n",
    "    print(\"Erro: problema com o arquivo\")\n",
    "else:\n",
    "    print(\"Gravado com sucesso\")\n",
    "    f.close()"
   ]
  },
  {
   "cell_type": "code",
   "execution_count": 7,
   "id": "eb2d77fb",
   "metadata": {},
   "outputs": [
    {
     "name": "stdout",
     "output_type": "stream",
     "text": [
      "Gravado com sucesso\n",
      "Tudo certo por aqui\n"
     ]
    }
   ],
   "source": [
    "try:\n",
    "    f = open(\"testando.txt\", \"w\")\n",
    "    f.write(\"Palavras. Palavras. Palavras\")\n",
    "except IOError:\n",
    "    print(\"Erro: problema com o arquivo\")\n",
    "else:\n",
    "    print(\"Gravado com sucesso\")\n",
    "    f.close()\n",
    "finally:\n",
    "    print(\"Tudo certo por aqui\")"
   ]
  },
  {
   "cell_type": "code",
   "execution_count": 8,
   "id": "5b9f95f1",
   "metadata": {},
   "outputs": [],
   "source": [
    " def numero():\n",
    "        try:\n",
    "            valor = int(input(\"Digite um número: \"))\n",
    "        except:\n",
    "            print(\"Você não digitou um número\")\n",
    "        finally:\n",
    "            print(\"Obrigado!\")"
   ]
  },
  {
   "cell_type": "code",
   "execution_count": 9,
   "id": "8de88331",
   "metadata": {},
   "outputs": [
    {
     "name": "stdout",
     "output_type": "stream",
     "text": [
      "Digite um número: \n",
      "Você não digitou um número\n",
      "Obrigado!\n"
     ]
    }
   ],
   "source": [
    "numero()"
   ]
  },
  {
   "cell_type": "code",
   "execution_count": 10,
   "id": "d3778fec",
   "metadata": {},
   "outputs": [],
   "source": [
    "def numero1():\n",
    "        try:\n",
    "            valor = int(input(\"Digite um número: \"))\n",
    "        except:\n",
    "            print(\"Você não digitou um número\")\n",
    "            valor = int(input(\"Tente novamente. Digite um número: \"))\n",
    "        finally:\n",
    "            print(\"Obrigado!\")\n",
    "        print(valor)"
   ]
  },
  {
   "cell_type": "code",
   "execution_count": 11,
   "id": "98cefc87",
   "metadata": {},
   "outputs": [
    {
     "name": "stdout",
     "output_type": "stream",
     "text": [
      "Digite um número: \n",
      "Você não digitou um número\n",
      "Tente novamente. Digite um número: 5\n",
      "Obrigado!\n",
      "5\n"
     ]
    }
   ],
   "source": [
    "numero1()"
   ]
  },
  {
   "cell_type": "code",
   "execution_count": 13,
   "id": "33cac21f",
   "metadata": {},
   "outputs": [],
   "source": [
    "def numero1():\n",
    "    while True:\n",
    "        try:\n",
    "            valor = int(input(\"Digite um número: \"))\n",
    "        except:\n",
    "            print(\"Você não digitou um número\")\n",
    "            continue\n",
    "        else:\n",
    "            print(\"Obrigado por digitar um número\")\n",
    "            break\n",
    "        finally:\n",
    "            print(\"Obrigado!\")\n",
    "        print(valor)"
   ]
  },
  {
   "cell_type": "code",
   "execution_count": 14,
   "id": "b8e4177b",
   "metadata": {},
   "outputs": [
    {
     "name": "stdout",
     "output_type": "stream",
     "text": [
      "Digite um número: \n",
      "Você não digitou um número\n",
      "Obrigado!\n",
      "Digite um número: \n",
      "Você não digitou um número\n",
      "Obrigado!\n",
      "Digite um número: \n",
      "Você não digitou um número\n",
      "Obrigado!\n",
      "Digite um número: \n",
      "Você não digitou um número\n",
      "Obrigado!\n",
      "Digite um número: \n",
      "Você não digitou um número\n",
      "Obrigado!\n",
      "Digite um número: \n",
      "Você não digitou um número\n",
      "Obrigado!\n",
      "Digite um número: 5\n",
      "Obrigado por digitar um número\n",
      "Obrigado!\n"
     ]
    }
   ],
   "source": [
    "numero1()"
   ]
  },
  {
   "cell_type": "code",
   "execution_count": 15,
   "id": "b7ce27da",
   "metadata": {},
   "outputs": [
    {
     "name": "stdout",
     "output_type": "stream",
     "text": [
      "Digite um número: 8.5\n",
      "Você não digitou um número\n",
      "Obrigado!\n",
      "Digite um número: 7\n",
      "Obrigado por digitar um número\n",
      "Obrigado!\n"
     ]
    }
   ],
   "source": [
    "numero1()"
   ]
  },
  {
   "cell_type": "code",
   "execution_count": 16,
   "id": "1161c6c6",
   "metadata": {},
   "outputs": [],
   "source": [
    "def numero1():\n",
    "    while True:\n",
    "        try:\n",
    "            valor = float(input(\"Digite um número: \"))\n",
    "        except:\n",
    "            print(\"Você não digitou um número\")\n",
    "            continue\n",
    "        else:\n",
    "            print(\"Obrigado por digitar um número\")\n",
    "            break\n",
    "        finally:\n",
    "            print(\"Fim da operação\")\n",
    "        print(valor)"
   ]
  },
  {
   "cell_type": "code",
   "execution_count": 17,
   "id": "04086ec8",
   "metadata": {},
   "outputs": [
    {
     "name": "stdout",
     "output_type": "stream",
     "text": [
      "Digite um número: 8.5\n",
      "Obrigado por digitar um número\n",
      "Fim da operação\n"
     ]
    }
   ],
   "source": [
    "numero1()"
   ]
  },
  {
   "cell_type": "code",
   "execution_count": 18,
   "id": "48b18bef",
   "metadata": {},
   "outputs": [
    {
     "name": "stdout",
     "output_type": "stream",
     "text": [
      "Digite um número: 4\n",
      "Obrigado por digitar um número\n",
      "Fim da operação\n"
     ]
    }
   ],
   "source": [
    "numero1()"
   ]
  },
  {
   "cell_type": "code",
   "execution_count": null,
   "id": "826d2e10",
   "metadata": {},
   "outputs": [],
   "source": []
  }
 ],
 "metadata": {
  "kernelspec": {
   "display_name": "Python 3 (ipykernel)",
   "language": "python",
   "name": "python3"
  },
  "language_info": {
   "codemirror_mode": {
    "name": "ipython",
    "version": 3
   },
   "file_extension": ".py",
   "mimetype": "text/x-python",
   "name": "python",
   "nbconvert_exporter": "python",
   "pygments_lexer": "ipython3",
   "version": "3.9.12"
  }
 },
 "nbformat": 4,
 "nbformat_minor": 5
}
