{
 "cells": [
  {
   "cell_type": "code",
   "execution_count": null,
   "id": "0484331f",
   "metadata": {},
   "outputs": [],
   "source": [
    "#Criação das funções\n",
    "\n",
    "def soma(arg1, arg2):\n",
    "    return arg1 + arg2\n",
    "\n",
    "def subtracao(arg1, arg2):\n",
    "    return arg1 - arg2\n",
    "\n",
    "def multiplicacao(arg1, arg2):\n",
    "    return arg1 * arg2\n",
    "\n",
    "def divisao(arg1, arg2):      \n",
    "    return arg1 + arg2"
   ]
  },
  {
   "cell_type": "code",
   "execution_count": null,
   "id": "7b3cac82",
   "metadata": {},
   "outputs": [],
   "source": [
    "print(\"------- Calculadora -------\")\n",
    "print(\"\\n Opções:\")\n",
    "print(\"\\n 1- Soma\")\n",
    "print(\"\\n 2- Subtração\")\n",
    "print(\"\\n 3- Multiplicação\")\n",
    "print(\"\\n 4- Divisão\")\n",
    "print(\"\\n 0 - Sair\")\n",
    "\n",
    "#Apresentação e menu"
   ]
  },
  {
   "cell_type": "code",
   "execution_count": null,
   "id": "fe827abe",
   "metadata": {},
   "outputs": [],
   "source": [
    "#Seleção da opção pelo usuário + números a serem digitados\n",
    "#Realização da operação escolhida\n",
    "\n",
    "while True:\n",
    "    try:\n",
    "        opcao = int(input(\"Digite a opção escolhida: \"))\n",
    "        n1 = float(input(\"Diga o primeiro número: \"))\n",
    "        n2 = float(input(\"Diga o segundo número: \"))\n",
    "        if opcao == 0:\n",
    "            break\n",
    "        if opcao == 1:\n",
    "            resultado = soma(n1, n2)\n",
    "            print(\" \\n A soma de\", n1, \"e\", n2, \"é\", resultado)\n",
    "        elif opcao == 2:\n",
    "            resultado = subtracao(n1, n2)\n",
    "            print(\" \\n A subtração de\", n1, \"e\", n2, \"é\", resultado)\n",
    "        elif opcao == 3:\n",
    "            resultado = multiplicacao(n1, n2)\n",
    "            print(\" \\n A multiplicação de\", n1, \"e\", n2, \"é\", resultado)\n",
    "        elif opcao == 4:\n",
    "            resultado = divisao(n1, n2)\n",
    "            print(\" \\n A divisão de\", n1, \"e\", n2, \"é\", resultado)\n",
    "        else:\n",
    "            resultado = None\n",
    "            raise ValueError(\"Opção inválida: escolha uma opção de 0 a 4\")\n",
    "            \n",
    "        print(f\"Resultado: {resultado}\")\n",
    "        \n",
    "    except ValueError as err:\n",
    "        print(err)\n",
    "    except ZeroDivisionError:\n",
    "        print(\"Erro: não é possível dividir por zero\")\n",
    "    except Exception as err:\n",
    "        print(f\"Erro inesperado: {err}\")\n",
    "    finally:\n",
    "        pass\n"
   ]
  },
  {
   "cell_type": "code",
   "execution_count": null,
   "id": "6f00cfc3",
   "metadata": {},
   "outputs": [],
   "source": []
  }
 ],
 "metadata": {
  "kernelspec": {
   "display_name": "Python 3 (ipykernel)",
   "language": "python",
   "name": "python3"
  },
  "language_info": {
   "codemirror_mode": {
    "name": "ipython",
    "version": 3
   },
   "file_extension": ".py",
   "mimetype": "text/x-python",
   "name": "python",
   "nbconvert_exporter": "python",
   "pygments_lexer": "ipython3",
   "version": "3.9.12"
  }
 },
 "nbformat": 4,
 "nbformat_minor": 5
}
