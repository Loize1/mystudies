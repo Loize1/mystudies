{
 "cells": [
  {
   "cell_type": "code",
   "execution_count": 2,
   "id": "023f1300",
   "metadata": {},
   "outputs": [],
   "source": [
    "import csv"
   ]
  },
  {
   "cell_type": "code",
   "execution_count": 3,
   "id": "055ec8a5",
   "metadata": {},
   "outputs": [],
   "source": [
    "with open(\"anotações.csv\", \"w\") as arquivo:\n",
    "    writer = csv.writer(arquivo)\n",
    "    writer.writerow((\"nota1\", \"nota2\", \"nota3\"))\n",
    "    writer.writerow((63, 78, 45))\n",
    "    writer.writerow((71, 28, 43))\n",
    "    writer.writerow((56, 89, 67))"
   ]
  },
  {
   "cell_type": "code",
   "execution_count": 4,
   "id": "a954afe4",
   "metadata": {},
   "outputs": [
    {
     "name": "stdout",
     "output_type": "stream",
     "text": [
      "['nota1', 'nota2', 'nota3']\n",
      "['63', '78', '45']\n",
      "['71', '28', '43']\n",
      "['56', '89', '67']\n"
     ]
    }
   ],
   "source": [
    "with open(\"anotações.csv\", \"r\", encoding = \"utf8\", newline = \"\\r\\n\") as arquivo:\n",
    "    leitor = csv.reader(arquivo)\n",
    "    for i in leitor:\n",
    "        print(i)"
   ]
  },
  {
   "cell_type": "code",
   "execution_count": 6,
   "id": "3c7f1bd2",
   "metadata": {},
   "outputs": [
    {
     "name": "stdout",
     "output_type": "stream",
     "text": [
      "[['nota1', 'nota2', 'nota3'], ['63', '78', '45'], ['71', '28', '43'], ['56', '89', '67']]\n"
     ]
    }
   ],
   "source": [
    "with open(\"anotações.csv\", \"r\") as arquivo:\n",
    "    leitor = csv.reader(arquivo)\n",
    "    dados = list(leitor)\n",
    "print(dados)"
   ]
  },
  {
   "cell_type": "code",
   "execution_count": 7,
   "id": "d4f77f64",
   "metadata": {},
   "outputs": [
    {
     "name": "stdout",
     "output_type": "stream",
     "text": [
      "['63', '78', '45']\n",
      "['71', '28', '43']\n",
      "['56', '89', '67']\n"
     ]
    }
   ],
   "source": [
    "for i in dados[1:]:\n",
    "    print(i)"
   ]
  },
  {
   "cell_type": "code",
   "execution_count": 8,
   "id": "55b6f8cf",
   "metadata": {},
   "outputs": [
    {
     "name": "stdout",
     "output_type": "stream",
     "text": [
      "3\n"
     ]
    }
   ],
   "source": [
    "print(len(i))"
   ]
  },
  {
   "cell_type": "code",
   "execution_count": null,
   "id": "c436b6ff",
   "metadata": {},
   "outputs": [],
   "source": []
  }
 ],
 "metadata": {
  "kernelspec": {
   "display_name": "Python 3 (ipykernel)",
   "language": "python",
   "name": "python3"
  },
  "language_info": {
   "codemirror_mode": {
    "name": "ipython",
    "version": 3
   },
   "file_extension": ".py",
   "mimetype": "text/x-python",
   "name": "python",
   "nbconvert_exporter": "python",
   "pygments_lexer": "ipython3",
   "version": "3.9.12"
  }
 },
 "nbformat": 4,
 "nbformat_minor": 5
}
