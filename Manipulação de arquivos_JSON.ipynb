{
 "cells": [
  {
   "cell_type": "code",
   "execution_count": 1,
   "id": "b768698e",
   "metadata": {},
   "outputs": [
    {
     "name": "stdout",
     "output_type": "stream",
     "text": [
      "chave1 a\n",
      "chave2 b\n",
      "chave3 c\n"
     ]
    }
   ],
   "source": [
    "dicio = {\"chave1\": \"a\", \"chave2\": \"b\", \"chave3\": \"c\"}\n",
    "for k,v in dicio.items():\n",
    "    print(k,v)"
   ]
  },
  {
   "cell_type": "code",
   "execution_count": 2,
   "id": "82d37d2e",
   "metadata": {},
   "outputs": [],
   "source": [
    "import json"
   ]
  },
  {
   "cell_type": "code",
   "execution_count": 3,
   "id": "7717d516",
   "metadata": {},
   "outputs": [
    {
     "data": {
      "text/plain": [
       "'{\"chave1\": \"a\", \"chave2\": \"b\", \"chave3\": \"c\"}'"
      ]
     },
     "execution_count": 3,
     "metadata": {},
     "output_type": "execute_result"
    }
   ],
   "source": [
    "json.dumps(dicio)"
   ]
  },
  {
   "cell_type": "code",
   "execution_count": 4,
   "id": "023dca40",
   "metadata": {},
   "outputs": [],
   "source": [
    "with open(\"dados.json\", \"w\") as arquivo:\n",
    "    arquivo.write(json.dumps(dicio))"
   ]
  },
  {
   "cell_type": "code",
   "execution_count": 5,
   "id": "1efa22bf",
   "metadata": {},
   "outputs": [],
   "source": [
    " with open(\"dados.json\", \"r\") as arquivo:\n",
    "    texto = arquivo.read()\n",
    "    dados = json.loads(texto)"
   ]
  },
  {
   "cell_type": "markdown",
   "id": "fc07563e",
   "metadata": {},
   "source": [
    "Extração de arquivo JSON da internet"
   ]
  },
  {
   "cell_type": "code",
   "execution_count": 6,
   "id": "7a6540e5",
   "metadata": {},
   "outputs": [],
   "source": [
    "from urllib.request import urlopen"
   ]
  },
  {
   "cell_type": "code",
   "execution_count": 8,
   "id": "24078fde",
   "metadata": {},
   "outputs": [],
   "source": [
    "response = urlopen(\"http://vimeo.com/api/v2/video/57733101.json\").read().decode(\"utf8\")\n",
    "dados = json.loads(response)[0]"
   ]
  },
  {
   "cell_type": "code",
   "execution_count": 9,
   "id": "8d41e8ee",
   "metadata": {},
   "outputs": [
    {
     "data": {
      "text/plain": [
       "{'id': 57733101,\n",
       " 'title': 'The Good Man trailer',\n",
       " 'description': 'Trailer for the Manifesto Films production, The Good Man, now available in UK/Ireland/US/Canada/Australia/New Zealand on iTunes (https://itunes.apple.com/us/movie/the-good-man/id873130906) and DVD (http://www.amazon.co.uk/The-Good-Man-Aiden-Gillen/dp/B00IIK6CGU/). Co-production with Jet Black Entertainment (South Africa). Starring Aidan Gillen, Thabang Sidloyi, Kelly Campbell, Lunathi Mampofu. Written & directed by Phil Harrison. More info at www.thegoodmanfilm.com<br />\\r\\n<br />\\r\\nCheck out the Variety Magazine review here: http://www.variety.com/review/VE1117947909/',\n",
       " 'url': 'https://vimeo.com/57733101',\n",
       " 'upload_date': '2013-01-19 04:01:15',\n",
       " 'thumbnail_small': 'http://i.vimeocdn.com/video/436057121-e828a1f5478ec0136e957753d107f2a1268c64def9b82faac37c8e30c031cff2-d_100x75',\n",
       " 'thumbnail_medium': 'http://i.vimeocdn.com/video/436057121-e828a1f5478ec0136e957753d107f2a1268c64def9b82faac37c8e30c031cff2-d_200x150',\n",
       " 'thumbnail_large': 'http://i.vimeocdn.com/video/436057121-e828a1f5478ec0136e957753d107f2a1268c64def9b82faac37c8e30c031cff2-d_640',\n",
       " 'user_id': 1334563,\n",
       " 'user_name': 'Manifesto Films',\n",
       " 'user_url': 'https://vimeo.com/manifestofilms',\n",
       " 'user_portrait_small': 'http://i.vimeocdn.com/portrait/4778306_30x30',\n",
       " 'user_portrait_medium': 'http://i.vimeocdn.com/portrait/4778306_75x75',\n",
       " 'user_portrait_large': 'http://i.vimeocdn.com/portrait/4778306_100x100',\n",
       " 'user_portrait_huge': 'http://i.vimeocdn.com/portrait/4778306_300x300',\n",
       " 'stats_number_of_likes': 17,\n",
       " 'stats_number_of_plays': 6585,\n",
       " 'stats_number_of_comments': 0,\n",
       " 'duration': 143,\n",
       " 'width': 1024,\n",
       " 'height': 576,\n",
       " 'tags': 'belfast, cape town, africa, ireland, film',\n",
       " 'embed_privacy': 'anywhere'}"
      ]
     },
     "execution_count": 9,
     "metadata": {},
     "output_type": "execute_result"
    }
   ],
   "source": [
    "dados"
   ]
  },
  {
   "cell_type": "code",
   "execution_count": 10,
   "id": "54ed671d",
   "metadata": {},
   "outputs": [
    {
     "name": "stdout",
     "output_type": "stream",
     "text": [
      "Título: The Good Man trailer\n"
     ]
    }
   ],
   "source": [
    "print(\"Título:\", dados[\"title\"])"
   ]
  },
  {
   "cell_type": "code",
   "execution_count": 11,
   "id": "3095cda6",
   "metadata": {},
   "outputs": [
    {
     "name": "stdout",
     "output_type": "stream",
     "text": [
      "URL https://vimeo.com/57733101\n"
     ]
    }
   ],
   "source": [
    "print(\"URL\", dados[\"url\"])"
   ]
  },
  {
   "cell_type": "code",
   "execution_count": 12,
   "id": "44f4bee8",
   "metadata": {},
   "outputs": [],
   "source": [
    "arquivo_fonte = \"dados.json\"\n",
    "arquivo_destino = \"dados.txt\""
   ]
  },
  {
   "cell_type": "code",
   "execution_count": 16,
   "id": "9dd4d5d2",
   "metadata": {},
   "outputs": [],
   "source": [
    "with open(arquivo_fonte, \"r\") as infile:\n",
    "    text = infile.read()\n",
    "    with open(arquivo_destino, \"w\") as outfile:\n",
    "        outfile.write(text)"
   ]
  },
  {
   "cell_type": "code",
   "execution_count": 17,
   "id": "eff6d8ca",
   "metadata": {},
   "outputs": [
    {
     "data": {
      "text/plain": [
       "45"
      ]
     },
     "execution_count": 17,
     "metadata": {},
     "output_type": "execute_result"
    }
   ],
   "source": [
    "open(arquivo_destino, \"w\").write(open(arquivo_fonte, \"r\").read())"
   ]
  },
  {
   "cell_type": "code",
   "execution_count": 18,
   "id": "e52716a2",
   "metadata": {},
   "outputs": [
    {
     "name": "stdout",
     "output_type": "stream",
     "text": [
      "{'chave1': 'a', 'chave2': 'b', 'chave3': 'c'}\n"
     ]
    }
   ],
   "source": [
    "with open(arquivo_destino, \"r\") as arquivo:\n",
    "    texto = arquivo.read()\n",
    "    dados = json.loads(texto)\n",
    "print(dados)"
   ]
  },
  {
   "cell_type": "code",
   "execution_count": null,
   "id": "3ee8a815",
   "metadata": {},
   "outputs": [],
   "source": []
  }
 ],
 "metadata": {
  "kernelspec": {
   "display_name": "Python 3 (ipykernel)",
   "language": "python",
   "name": "python3"
  },
  "language_info": {
   "codemirror_mode": {
    "name": "ipython",
    "version": 3
   },
   "file_extension": ".py",
   "mimetype": "text/x-python",
   "name": "python",
   "nbconvert_exporter": "python",
   "pygments_lexer": "ipython3",
   "version": "3.9.12"
  }
 },
 "nbformat": 4,
 "nbformat_minor": 5
}
