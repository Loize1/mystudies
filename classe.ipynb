{
 "cells": [
  {
   "cell_type": "code",
   "execution_count": 8,
   "id": "a9246f69",
   "metadata": {},
   "outputs": [],
   "source": [
    "#criando a classe carro\n",
    "class Carro:\n",
    "    #inicializando os atributos da classe\n",
    "    def __init__ (self, marca, ano, cor):\n",
    "        \n",
    "        #utilizando o self para referenciar os atributos do objeto dentro da própria função\n",
    "        self.marca = marca\n",
    "        self.ano = ano\n",
    "        self.cor = cor\n",
    "        \n",
    "#criando a primeira instância       \n",
    "fiat = Carro(\"Fiat\", 2002, \"prata\")\n",
    "\n"
   ]
  },
  {
   "cell_type": "code",
   "execution_count": 9,
   "id": "84bdbb78",
   "metadata": {},
   "outputs": [
    {
     "name": "stdout",
     "output_type": "stream",
     "text": [
      "Fiat\n"
     ]
    }
   ],
   "source": [
    "print(fiat.marca)"
   ]
  },
  {
   "cell_type": "code",
   "execution_count": null,
   "id": "54bce385",
   "metadata": {},
   "outputs": [],
   "source": []
  }
 ],
 "metadata": {
  "kernelspec": {
   "display_name": "Python 3 (ipykernel)",
   "language": "python",
   "name": "python3"
  },
  "language_info": {
   "codemirror_mode": {
    "name": "ipython",
    "version": 3
   },
   "file_extension": ".py",
   "mimetype": "text/x-python",
   "name": "python",
   "nbconvert_exporter": "python",
   "pygments_lexer": "ipython3",
   "version": "3.9.12"
  }
 },
 "nbformat": 4,
 "nbformat_minor": 5
}
