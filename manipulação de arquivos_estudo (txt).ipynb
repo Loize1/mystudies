{
 "cells": [
  {
   "cell_type": "code",
   "execution_count": 7,
   "id": "4a7de58f",
   "metadata": {},
   "outputs": [],
   "source": [
    "arquivo = open(\"texto.txt\", \"r\")"
   ]
  },
  {
   "cell_type": "code",
   "execution_count": 9,
   "id": "aab3c750",
   "metadata": {},
   "outputs": [
    {
     "name": "stdout",
     "output_type": "stream",
     "text": [
      "﻿Batatinha quando nasce espalha rama pelo chão\n",
      "\n"
     ]
    }
   ],
   "source": [
    "print(arquivo.read())"
   ]
  },
  {
   "cell_type": "code",
   "execution_count": 10,
   "id": "908e6499",
   "metadata": {},
   "outputs": [
    {
     "name": "stdout",
     "output_type": "stream",
     "text": [
      "50\n"
     ]
    }
   ],
   "source": [
    "print(arquivo.tell())"
   ]
  },
  {
   "cell_type": "code",
   "execution_count": 11,
   "id": "6b849215",
   "metadata": {},
   "outputs": [
    {
     "name": "stdout",
     "output_type": "stream",
     "text": [
      "0\n"
     ]
    }
   ],
   "source": [
    "print(arquivo.seek(0,0))"
   ]
  },
  {
   "cell_type": "code",
   "execution_count": 12,
   "id": "8a5622c5",
   "metadata": {},
   "outputs": [
    {
     "name": "stdout",
     "output_type": "stream",
     "text": [
      "﻿Batatinha quando nasce\n"
     ]
    }
   ],
   "source": [
    "print(arquivo.read(23))"
   ]
  },
  {
   "cell_type": "code",
   "execution_count": 14,
   "id": "d6afca2c",
   "metadata": {},
   "outputs": [],
   "source": [
    "arq1 = open(\"b.txt\", \"w\")"
   ]
  },
  {
   "cell_type": "code",
   "execution_count": 23,
   "id": "3ca982e3",
   "metadata": {},
   "outputs": [],
   "source": [
    "arq1.close()"
   ]
  },
  {
   "cell_type": "code",
   "execution_count": 25,
   "id": "a21d432a",
   "metadata": {},
   "outputs": [
    {
     "name": "stdout",
     "output_type": "stream",
     "text": [
      "escrevendo coisasMenininha quando dorme põe a mão no coraçãoMenininha quando dorme põe a mão no coração\n"
     ]
    }
   ],
   "source": [
    "leitura = open(\"b.txt\", \"r\")\n",
    "print(leitura.read())"
   ]
  },
  {
   "cell_type": "code",
   "execution_count": 26,
   "id": "94f80e36",
   "metadata": {},
   "outputs": [],
   "source": [
    "arq2 = open(\"g.txt\", \"w\")\n",
    "arq2.write(\"Te escolhi e te escolheria mil vezes, pois amo você\")\n",
    "arq2.close()"
   ]
  },
  {
   "cell_type": "code",
   "execution_count": 27,
   "id": "74d19fe4",
   "metadata": {},
   "outputs": [
    {
     "name": "stdout",
     "output_type": "stream",
     "text": [
      "Te escolhi e te escolheria mil vezes, pois amo você\n"
     ]
    }
   ],
   "source": [
    "arq2 = open(\"g.txt\", \"r\")\n",
    "print(arq2.read())"
   ]
  },
  {
   "cell_type": "code",
   "execution_count": 28,
   "id": "56d946f2",
   "metadata": {},
   "outputs": [],
   "source": [
    "arq2.close()"
   ]
  },
  {
   "cell_type": "code",
   "execution_count": 29,
   "id": "73c93840",
   "metadata": {},
   "outputs": [],
   "source": [
    " arq2 = open(\"g.txt\", \"a\")"
   ]
  },
  {
   "cell_type": "code",
   "execution_count": 30,
   "id": "97b77807",
   "metadata": {},
   "outputs": [
    {
     "data": {
      "text/plain": [
       "114"
      ]
     },
     "execution_count": 30,
     "metadata": {},
     "output_type": "execute_result"
    }
   ],
   "source": [
    "arq2.write(\". Nossa relação foi a melhor coisa que me aconteceu e espero continuar vivendo tudo de bom que ela me proporciona.\")"
   ]
  },
  {
   "cell_type": "code",
   "execution_count": 31,
   "id": "b46553ab",
   "metadata": {},
   "outputs": [],
   "source": [
    "arq2.close()"
   ]
  },
  {
   "cell_type": "code",
   "execution_count": 33,
   "id": "d26caac7",
   "metadata": {},
   "outputs": [
    {
     "name": "stdout",
     "output_type": "stream",
     "text": [
      "Te escolhi e te escolheria mil vezes, pois amo você. Nossa relação foi a melhor coisa que me aconteceu e espero continuar vivendo tudo de bom que ela me proporciona.\n"
     ]
    }
   ],
   "source": [
    "arq2 = open(\"g.txt\", \"r\")\n",
    "print(arq2.read())"
   ]
  },
  {
   "cell_type": "code",
   "execution_count": null,
   "id": "a1871fda",
   "metadata": {},
   "outputs": [],
   "source": []
  }
 ],
 "metadata": {
  "kernelspec": {
   "display_name": "Python 3 (ipykernel)",
   "language": "python",
   "name": "python3"
  },
  "language_info": {
   "codemirror_mode": {
    "name": "ipython",
    "version": 3
   },
   "file_extension": ".py",
   "mimetype": "text/x-python",
   "name": "python",
   "nbconvert_exporter": "python",
   "pygments_lexer": "ipython3",
   "version": "3.9.12"
  }
 },
 "nbformat": 4,
 "nbformat_minor": 5
}
